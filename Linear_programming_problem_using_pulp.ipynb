{
  "nbformat": 4,
  "nbformat_minor": 0,
  "metadata": {
    "colab": {
      "name": "Linear_programming_problem_using_pulp.ipynb",
      "provenance": [],
      "authorship_tag": "ABX9TyP4ubDJcKD6CZJ1K/ulDckD",
      "include_colab_link": true
    },
    "kernelspec": {
      "name": "python3",
      "display_name": "Python 3"
    },
    "language_info": {
      "name": "python"
    }
  },
  "cells": [
    {
      "cell_type": "markdown",
      "metadata": {
        "id": "view-in-github",
        "colab_type": "text"
      },
      "source": [
        "<a href=\"https://colab.research.google.com/github/Shivani-saran/Operation-Research-Lab/blob/main/Linear_programming_problem_using_pulp.ipynb\" target=\"_parent\"><img src=\"https://colab.research.google.com/assets/colab-badge.svg\" alt=\"Open In Colab\"/></a>"
      ]
    },
    {
      "cell_type": "markdown",
      "metadata": {
        "id": "dKZAQEr8y31n"
      },
      "source": [
        "Installing Library"
      ]
    },
    {
      "cell_type": "code",
      "metadata": {
        "id": "AxMF9u1uBWh9"
      },
      "source": [
        "%%capture\n",
        "!pip install pulp"
      ],
      "execution_count": null,
      "outputs": []
    },
    {
      "cell_type": "markdown",
      "metadata": {
        "id": "Pl5nYBXvyzVH"
      },
      "source": [
        "loading library"
      ]
    },
    {
      "cell_type": "code",
      "metadata": {
        "id": "VYGIN9u3Bq4h"
      },
      "source": [
        "from pulp import *"
      ],
      "execution_count": null,
      "outputs": []
    },
    {
      "cell_type": "markdown",
      "metadata": {
        "id": "PQlklBgA0L9R"
      },
      "source": [
        "LPP\n",
        "maximize z=4x-3y\n",
        "x>=0\n",
        "y>=22\n",
        "2y<=25-x\n",
        "4y>=2x-8\n",
        "y<=2x-5\n",
        "\n"
      ]
    },
    {
      "cell_type": "code",
      "metadata": {
        "colab": {
          "base_uri": "https://localhost:8080/"
        },
        "id": "YW9VP0kB2kr2",
        "outputId": "92cac4e9-f28c-4f58-db14-1a4ce83ebc35"
      },
      "source": [
        "my_lp_problem = LpProblem(\"My LP Problem\",LpMaximize)"
      ],
      "execution_count": null,
      "outputs": [
        {
          "output_type": "stream",
          "name": "stderr",
          "text": [
            "/usr/local/lib/python3.7/dist-packages/pulp/pulp.py:1316: UserWarning: Spaces are not permitted in the name. Converted to '_'\n",
            "  warnings.warn(\"Spaces are not permitted in the name. Converted to '_'\")\n"
          ]
        }
      ]
    },
    {
      "cell_type": "code",
      "metadata": {
        "id": "69Vjwng23BET"
      },
      "source": [
        "x = LpVariable('x', lowBound=0, cat='Continuous')\n",
        "y = LpVariable('y', lowBound=0, cat='Continuous')"
      ],
      "execution_count": null,
      "outputs": []
    },
    {
      "cell_type": "code",
      "metadata": {
        "id": "9NOyNodF4L9L"
      },
      "source": [
        "# Objective function\n",
        "my_lp_problem += 4 * x + 3 * y, \"z\"\n",
        "\n",
        "# constraints\n",
        "my_lp_problem += 2 * y <= 25- x\n",
        "my_lp_problem += 4 * y >= 2 * x - 8\n",
        "my_lp_problem += y <= 2 * x - 5"
      ],
      "execution_count": null,
      "outputs": []
    },
    {
      "cell_type": "code",
      "metadata": {
        "colab": {
          "base_uri": "https://localhost:8080/"
        },
        "id": "VFZXZgu15JsA",
        "outputId": "61a639af-4cdd-43ef-8f7a-ad4b80cd38c6"
      },
      "source": [
        "my_lp_problem\n",
        "\n"
      ],
      "execution_count": null,
      "outputs": [
        {
          "output_type": "execute_result",
          "data": {
            "text/plain": [
              "my_LP_problem:\n",
              "MAXIMIZE\n",
              "4*x + 3*y + 0\n",
              "SUBJECT TO\n",
              "_C1: x + 2 y <= 25\n",
              "\n",
              "_C2: - 2 x + 4 y >= -8\n",
              "\n",
              "_C3: - 2 x + y <= -5\n",
              "\n",
              "VARIABLES\n",
              "x Continuous\n",
              "y Continuous"
            ]
          },
          "metadata": {},
          "execution_count": 7
        }
      ]
    },
    {
      "cell_type": "code",
      "metadata": {
        "colab": {
          "base_uri": "https://localhost:8080/",
          "height": 35
        },
        "id": "-oy2uN9X7Zrn",
        "outputId": "69351f17-8986-4a81-a6d5-72a9acbc96b3"
      },
      "source": [
        "my_lp_problem.solve()\n",
        "LpStatus[my_lp_problem.status]"
      ],
      "execution_count": null,
      "outputs": [
        {
          "output_type": "execute_result",
          "data": {
            "application/vnd.google.colaboratory.intrinsic+json": {
              "type": "string"
            },
            "text/plain": [
              "'Optimal'"
            ]
          },
          "metadata": {},
          "execution_count": 8
        }
      ]
    },
    {
      "cell_type": "code",
      "metadata": {
        "colab": {
          "base_uri": "https://localhost:8080/"
        },
        "id": "7G0j2Zv67nyl",
        "outputId": "a6be08f1-e989-4aa8-cb6d-c1e59ae31003"
      },
      "source": [
        "for variable in my_lp_problem.variables():\n",
        "  print (\"{} = {}\".format(variable.name, variable.varValue))"
      ],
      "execution_count": null,
      "outputs": [
        {
          "output_type": "stream",
          "name": "stdout",
          "text": [
            "x = 14.5\n",
            "y = 5.25\n"
          ]
        }
      ]
    },
    {
      "cell_type": "code",
      "metadata": {
        "colab": {
          "base_uri": "https://localhost:8080/"
        },
        "id": "P8qCuJgI8gfl",
        "outputId": "02da2bcc-bbb6-4f1a-db22-6eb7d21ed8f0"
      },
      "source": [
        "value(my_lp_problem.objective)"
      ],
      "execution_count": null,
      "outputs": [
        {
          "output_type": "execute_result",
          "data": {
            "text/plain": [
              "73.75"
            ]
          },
          "metadata": {},
          "execution_count": 13
        }
      ]
    }
  ]
}