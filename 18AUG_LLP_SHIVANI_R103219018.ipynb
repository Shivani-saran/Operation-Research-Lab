{
  "nbformat": 4,
  "nbformat_minor": 0,
  "metadata": {
    "colab": {
      "name": "18AUG_LLP_SHIVANI_R103219018.ipynb",
      "provenance": [],
      "authorship_tag": "ABX9TyPmUBy+g6ihaeskVb9t13Bi",
      "include_colab_link": true
    },
    "kernelspec": {
      "name": "python3",
      "display_name": "Python 3"
    },
    "language_info": {
      "name": "python"
    }
  },
  "cells": [
    {
      "cell_type": "markdown",
      "metadata": {
        "id": "view-in-github",
        "colab_type": "text"
      },
      "source": [
        "<a href=\"https://colab.research.google.com/github/Shivani-saran/Operation-Research-Lab/blob/main/18AUG_LLP_SHIVANI_R103219018.ipynb\" target=\"_parent\"><img src=\"https://colab.research.google.com/assets/colab-badge.svg\" alt=\"Open In Colab\"/></a>"
      ]
    },
    {
      "cell_type": "code",
      "metadata": {
        "id": "mTgTukwLjHy7"
      },
      "source": [
        "from scipy.optimize import linprog"
      ],
      "execution_count": null,
      "outputs": []
    },
    {
      "cell_type": "code",
      "metadata": {
        "id": "vcuzj9H0jhRZ"
      },
      "source": [
        "obj = [1 ,1]"
      ],
      "execution_count": 2,
      "outputs": []
    },
    {
      "cell_type": "code",
      "metadata": {
        "id": "tiLy1LIbjmA-"
      },
      "source": [
        "lhs_ineq = [[ 1,  2],[2,  1]]\n",
        "rhs_ineq = [6, 6]"
      ],
      "execution_count": 3,
      "outputs": []
    },
    {
      "cell_type": "code",
      "metadata": {
        "id": "KrcALRFIjqAU"
      },
      "source": [
        "bnd = [(0, float(\"inf\")), (0, float(\"inf\"))]  # Bounds of x & y"
      ],
      "execution_count": 4,
      "outputs": []
    },
    {
      "cell_type": "code",
      "metadata": {
        "id": "tVo8tsqkjt1A"
      },
      "source": [
        "opt = linprog(c=obj, A_ub=lhs_ineq, b_ub=rhs_ineq,\n",
        "...               bounds=bnd,\n",
        "...               method=\"revised simplex\")"
      ],
      "execution_count": 5,
      "outputs": []
    },
    {
      "cell_type": "code",
      "metadata": {
        "colab": {
          "base_uri": "https://localhost:8080/"
        },
        "id": "iO74KSvUjvOz",
        "outputId": "0966c920-b8db-48a3-cdbb-6638a5114ac4"
      },
      "source": [
        "opt"
      ],
      "execution_count": 7,
      "outputs": [
        {
          "output_type": "execute_result",
          "data": {
            "text/plain": [
              "     con: array([], dtype=float64)\n",
              "     fun: 0.0\n",
              " message: 'Optimization terminated successfully.'\n",
              "     nit: 0\n",
              "   slack: array([6., 6.])\n",
              "  status: 0\n",
              " success: True\n",
              "       x: array([0., 0.])"
            ]
          },
          "metadata": {},
          "execution_count": 7
        }
      ]
    }
  ]
}