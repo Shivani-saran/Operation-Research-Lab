{
  "nbformat": 4,
  "nbformat_minor": 0,
  "metadata": {
    "colab": {
      "name": "8SEPT_EXP-4_SHIVANI_R103219018.ipynb",
      "provenance": [],
      "authorship_tag": "ABX9TyOz9YuCKs+xuBeBoKN1/CjT",
      "include_colab_link": true
    },
    "kernelspec": {
      "name": "python3",
      "display_name": "Python 3"
    },
    "language_info": {
      "name": "python"
    }
  },
  "cells": [
    {
      "cell_type": "markdown",
      "metadata": {
        "id": "view-in-github",
        "colab_type": "text"
      },
      "source": [
        "<a href=\"https://colab.research.google.com/github/Shivani-saran/Operation-Research-Lab/blob/main/8SEPT_EXP_4_SHIVANI_R103219018.ipynb\" target=\"_parent\"><img src=\"https://colab.research.google.com/assets/colab-badge.svg\" alt=\"Open In Colab\"/></a>"
      ]
    },
    {
      "cell_type": "markdown",
      "metadata": {
        "id": "-0qeIsyyp0TW"
      },
      "source": [
        "QUESTION:-1"
      ]
    },
    {
      "cell_type": "code",
      "metadata": {
        "id": "bRIhM2fNp0ji"
      },
      "source": [
        "import cvxpy as cp"
      ],
      "execution_count": 1,
      "outputs": []
    },
    {
      "cell_type": "code",
      "metadata": {
        "colab": {
          "base_uri": "https://localhost:8080/"
        },
        "id": "0h1q8rHRp8gk",
        "outputId": "d6b51531-66ca-4d7f-a1cf-fa0cd1d3ddaf"
      },
      "source": [
        "x1 = cp.Variable(integer=True)\n",
        "x2 = cp.Variable(integer=True)\n",
        "\n",
        "constraints = [-x1 + (3*x2) <= 6,\n",
        "               7*x1 + x2 <= 35,\n",
        "               x1>=0,\n",
        "               x2>=0]\n",
        "\n",
        "obj = cp.Maximize((7*x1)+(10*x2))\n",
        "\n",
        "prob = cp.Problem(obj, constraints)\n",
        "prob.solve()\n",
        "\n",
        "print(\"Value of x1:\", x1.value)\n",
        "print(\"Value of x2:\", x2.value)\n",
        "print(\"Value of obj:\",prob.value)"
      ],
      "execution_count": 2,
      "outputs": [
        {
          "output_type": "stream",
          "name": "stdout",
          "text": [
            "Value of x1: 4.0\n",
            "Value of x2: 3.0\n",
            "Value of obj: 58.0\n"
          ]
        }
      ]
    },
    {
      "cell_type": "markdown",
      "metadata": {
        "id": "5Hx_SMGCqE8E"
      },
      "source": [
        "QUESTION:-2"
      ]
    },
    {
      "cell_type": "code",
      "metadata": {
        "colab": {
          "base_uri": "https://localhost:8080/"
        },
        "id": "we3KhjTSqH0y",
        "outputId": "41713667-dde9-496e-862b-2fa2c8070a2b"
      },
      "source": [
        "x1 = cp.Variable(integer=True)\n",
        "x2 = cp.Variable(integer=True)\n",
        "\n",
        "constraints1 = [x1 + x2 <= 6,\n",
        "               5*x1 + 9*x2 <= 45,\n",
        "               x1>=0,\n",
        "               x2>=0]\n",
        "\n",
        "obj1 = cp.Maximize((5*x1)+(8*x2))\n",
        "\n",
        "prob1 = cp.Problem(obj1, constraints1)\n",
        "prob1.solve()\n",
        "\n",
        "print(\"Value of x1:\", x1.value)\n",
        "print(\"Value of x2:\", x2.value)\n",
        "print(\"Value of obj:\",prob1.value)"
      ],
      "execution_count": 3,
      "outputs": [
        {
          "output_type": "stream",
          "name": "stdout",
          "text": [
            "Value of x1: 0.0\n",
            "Value of x2: 5.0\n",
            "Value of obj: 40.0\n"
          ]
        }
      ]
    }
  ]
}