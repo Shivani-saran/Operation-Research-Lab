{
  "nbformat": 4,
  "nbformat_minor": 0,
  "metadata": {
    "colab": {
      "name": "15SEPT_EXP-5_SHIVANI_R103219018.ipynb",
      "provenance": [],
      "authorship_tag": "ABX9TyPyyIyYnO0VAGtiNklwNq3j",
      "include_colab_link": true
    },
    "kernelspec": {
      "name": "python3",
      "display_name": "Python 3"
    },
    "language_info": {
      "name": "python"
    }
  },
  "cells": [
    {
      "cell_type": "markdown",
      "metadata": {
        "id": "view-in-github",
        "colab_type": "text"
      },
      "source": [
        "<a href=\"https://colab.research.google.com/github/Shivani-saran/Operation-Research-Lab/blob/main/15SEPT_EXP_5_SHIVANI_R103219018.ipynb\" target=\"_parent\"><img src=\"https://colab.research.google.com/assets/colab-badge.svg\" alt=\"Open In Colab\"/></a>"
      ]
    },
    {
      "cell_type": "code",
      "metadata": {
        "id": "OF_4y8s3qZMf"
      },
      "source": [
        "from scipy.optimize import linprog\n",
        "import time"
      ],
      "execution_count": 1,
      "outputs": []
    },
    {
      "cell_type": "markdown",
      "metadata": {
        "id": "Dx3gY9w0q8dp"
      },
      "source": [
        "ANSWER:-01"
      ]
    },
    {
      "cell_type": "code",
      "metadata": {
        "colab": {
          "base_uri": "https://localhost:8080/"
        },
        "id": "j8QRXrTjq_v3",
        "outputId": "09c33087-c3ff-4276-9053-d2bea8e0d595"
      },
      "source": [
        "c = [-3, -2, -3]\n",
        "A = [[2, 1, 1], [ 1, 3, 1], [3, 4, 2]]\n",
        "b = [2, 6, 8]\n",
        "x1_bnds = (0, None)\n",
        "x2_bnds = (0, None)\n",
        "x3_bnds = (0, None)\n",
        "\n",
        "start_time = time.time()\n",
        "res = linprog(c, A_eq = A, b_eq =  b, bounds=(x1_bnds, x2_bnds, x3_bnds),method = 'revised simplex')\n",
        "print(\"--- %s seconds ---\" % (time.time() - start_time))\n",
        "print(res)"
      ],
      "execution_count": 2,
      "outputs": [
        {
          "output_type": "stream",
          "name": "stdout",
          "text": [
            "--- 0.06678175926208496 seconds ---\n",
            "     con: array([0., 0., 0.])\n",
            "     fun: -4.0\n",
            " message: 'Optimization terminated successfully.'\n",
            "     nit: 3\n",
            "   slack: array([], dtype=float64)\n",
            "  status: 0\n",
            " success: True\n",
            "       x: array([0., 2., 0.])\n"
          ]
        },
        {
          "output_type": "stream",
          "name": "stderr",
          "text": [
            "/usr/local/lib/python3.7/dist-packages/ipykernel_launcher.py:9: OptimizeWarning: A_eq does not appear to be of full row rank. To improve performance, check the problem formulation for redundant equality constraints.\n",
            "  if __name__ == '__main__':\n"
          ]
        }
      ]
    },
    {
      "cell_type": "markdown",
      "metadata": {
        "id": "IgMrF9B0rLLN"
      },
      "source": [
        "ANSWER:-02"
      ]
    },
    {
      "cell_type": "code",
      "metadata": {
        "colab": {
          "base_uri": "https://localhost:8080/"
        },
        "id": "JmCEy2p-rLjn",
        "outputId": "08f5bddd-0568-4c4f-b365-313fc74f6012"
      },
      "source": [
        "c = [3, -4, 3]\n",
        "A = [[5, 6, 2], [ 1, -3, -5], [2, 5, -4]]\n",
        "b = [5, -8, 4]\n",
        "x1_bnds = (0, None)\n",
        "x2_bnds = (0, None)\n",
        "x3_bnds = (0, None)\n",
        "\n",
        "start_time = time.time()\n",
        "res = linprog(c, A,  b, bounds=(x1_bnds, x2_bnds, x3_bnds),method = 'revised simplex')\n",
        "print(\"--- %s seconds ---\" % (time.time() - start_time))\n",
        "print(res)"
      ],
      "execution_count": 4,
      "outputs": [
        {
          "output_type": "stream",
          "name": "stdout",
          "text": [
            "--- 0.005262136459350586 seconds ---\n",
            "     con: array([], dtype=float64)\n",
            "     fun: 2.625\n",
            " message: 'Optimization terminated successfully.'\n",
            "     nit: 2\n",
            "   slack: array([0.   , 0.   , 7.625])\n",
            "  status: 0\n",
            " success: True\n",
            "       x: array([0.   , 0.375, 1.375])\n"
          ]
        }
      ]
    },
    {
      "cell_type": "markdown",
      "metadata": {
        "id": "iS5ZQaakrTrV"
      },
      "source": [
        "ANSWER:-03"
      ]
    },
    {
      "cell_type": "code",
      "metadata": {
        "colab": {
          "base_uri": "https://localhost:8080/"
        },
        "id": "dsGhpGg5rUAP",
        "outputId": "dfc1227f-711a-4b8c-b71d-c944f9d46dee"
      },
      "source": [
        "c = [-2, -4, -4, 3]\n",
        "A = [[1, 1, 1,0], [ 1, 4, 0,  1], [3, 4, 2,0]]\n",
        "b = [4, 8, 8]\n",
        "x1_bnds = (0, None)\n",
        "x2_bnds = (0, None)\n",
        "x3_bnds = (0, None)\n",
        "x4_bnds = (0, None)\n",
        "\n",
        "start_time = time.time()\n",
        "res = linprog(c, A_eq = A, b_eq =  b, bounds=(x1_bnds, x2_bnds, x3_bnds,x4_bnds),method = 'revised simplex')\n",
        "print(\"--- %s seconds ---\" % (time.time() - start_time))\n",
        "print(res)"
      ],
      "execution_count": 5,
      "outputs": [
        {
          "output_type": "stream",
          "name": "stdout",
          "text": [
            "--- 0.007528781890869141 seconds ---\n",
            "     con: array([0., 0., 0.])\n",
            "     fun: 8.0\n",
            " message: 'Optimization terminated successfully.'\n",
            "     nit: 3\n",
            "   slack: array([], dtype=float64)\n",
            "  status: 0\n",
            " success: True\n",
            "       x: array([0., 0., 4., 8.])\n"
          ]
        }
      ]
    }
  ]
}