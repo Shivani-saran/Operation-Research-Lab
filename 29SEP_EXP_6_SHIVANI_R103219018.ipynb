{
  "nbformat": 4,
  "nbformat_minor": 0,
  "metadata": {
    "colab": {
      "name": "29SEP_EXP-6_SHIVANI_R103219018.ipynb",
      "provenance": [],
      "authorship_tag": "ABX9TyMnrW375b5MiJdCq0dV+b4o",
      "include_colab_link": true
    },
    "kernelspec": {
      "name": "python3",
      "display_name": "Python 3"
    },
    "language_info": {
      "name": "python"
    }
  },
  "cells": [
    {
      "cell_type": "markdown",
      "metadata": {
        "id": "view-in-github",
        "colab_type": "text"
      },
      "source": [
        "<a href=\"https://colab.research.google.com/github/Shivani-saran/Operation-Research-Lab/blob/main/29SEP_EXP_6_SHIVANI_R103219018.ipynb\" target=\"_parent\"><img src=\"https://colab.research.google.com/assets/colab-badge.svg\" alt=\"Open In Colab\"/></a>"
      ]
    },
    {
      "cell_type": "markdown",
      "metadata": {
        "id": "TK2Pc7-bIwdP"
      },
      "source": [
        "Question :-01"
      ]
    },
    {
      "cell_type": "markdown",
      "metadata": {
        "id": "mkNS7tHiI1r8"
      },
      "source": [
        "Consider a Belgian company Volsay, which specializes in producing ammoniac gas (NH3) and ammonium chloride (NH4Cl). Volsay has at its disposal 50 units of nitrogen (N), 180 units of hydrogen (H), and 40 units of chlorine (Cl). The company makes a profit of 40 Euros for each sale of an ammoniac gas unit and 50 Euros for each sale of an ammonium chloride unit. Volsay would like a production plan maximizing its profits given its available stocks."
      ]
    },
    {
      "cell_type": "code",
      "metadata": {
        "id": "CDInuDsdI7A7"
      },
      "source": [
        "from scipy.optimize import linprog\n",
        "import time"
      ],
      "execution_count": 1,
      "outputs": []
    },
    {
      "cell_type": "code",
      "metadata": {
        "colab": {
          "base_uri": "https://localhost:8080/"
        },
        "id": "vHJAGOznJBg6",
        "outputId": "bcde9557-6a81-4582-ca5b-089a98493287"
      },
      "source": [
        "c = [-40, -50]\n",
        "A = [[1, 1],[3,4],[0,1]]\n",
        "b = [50,180,40]\n",
        "x1_bnds = (0, None)\n",
        "x2_bnds = (0, None)\n",
        "\n",
        "start_time = time.time()\n",
        "res = linprog(c, A,  b, bounds=(x1_bnds, x2_bnds),method = 'revised simplex')\n",
        "print(\"--- %s seconds ---\" % (time.time() - start_time))\n",
        "print(res)"
      ],
      "execution_count": 2,
      "outputs": [
        {
          "output_type": "stream",
          "name": "stdout",
          "text": [
            "--- 0.039687156677246094 seconds ---\n",
            "     con: array([], dtype=float64)\n",
            "     fun: -2300.0\n",
            " message: 'Optimization terminated successfully.'\n",
            "     nit: 3\n",
            "   slack: array([ 0.,  0., 10.])\n",
            "  status: 0\n",
            " success: True\n",
            "       x: array([20., 30.])\n"
          ]
        }
      ]
    },
    {
      "cell_type": "markdown",
      "metadata": {
        "id": "uogDmbVFJFX2"
      },
      "source": [
        "Question :-02"
      ]
    },
    {
      "cell_type": "markdown",
      "metadata": {
        "id": "XCCnAIDIJFxm"
      },
      "source": [
        "On October 1 a company received a contract to supply 6000 units of specialized product . the term of contract require that 1000 unit be shipped in October , 3000 units in November and 2000 units in December . the company can manufacture 1500 units in a month on a regular time and 750 units per month in overtime. The manufacturing cost per item produced in regular time is Rs 3 and the cost per item produced during overtime is Rs 5.The monthly storage cost is Rs 1.Formulate this problem as LP model so as to minimize total cost."
      ]
    },
    {
      "cell_type": "code",
      "metadata": {
        "id": "rhg3YcyZJNOm"
      },
      "source": [
        "import cvxpy as cp"
      ],
      "execution_count": 3,
      "outputs": []
    },
    {
      "cell_type": "code",
      "metadata": {
        "colab": {
          "base_uri": "https://localhost:8080/"
        },
        "id": "5g92kjiHJR6S",
        "outputId": "fae50bca-0221-4f29-bb9b-dce18da4a736"
      },
      "source": [
        "x1 = cp.Variable(integer=True)\n",
        "x2 = cp.Variable(integer=True)\n",
        "x3 = cp.Variable(integer=True)\n",
        "y1 = cp.Variable(integer=True)\n",
        "y2 = cp.Variable(integer=True)\n",
        "y3 = cp.Variable(integer=True)\n",
        "\n",
        "\n",
        "constraints = [x1+x2+x3+y1+y2+y3==6000,\n",
        "               x1+y1>=1000,\n",
        "               x1+y1+x2+y2>=4000,\n",
        "               x1<=1500,\n",
        "               x2<=1500,\n",
        "               x3<=1500,\n",
        "               y1<=750,\n",
        "               y2<=750,\n",
        "               y3<=750]\n",
        "\n",
        "obj = cp.Minimize(5*x1+4*x2+3*x3+7*y1+6*y2+5*y3-5000)\n",
        "\n",
        "prob = cp.Problem(obj, constraints)\n",
        "prob.solve()\n",
        "\n",
        "print(\"x1:\", x1.value)\n",
        "print(\"x2:\", x2.value)  \n",
        "print(\"x3:\", x3.value)\n",
        "print(\"y1:\", y1.value)\n",
        "print(\"y2:\", y2.value)\n",
        "print(\"y3:\", y3.value)\n",
        "print(\"obj:\",prob.value)"
      ],
      "execution_count": 4,
      "outputs": [
        {
          "output_type": "stream",
          "name": "stdout",
          "text": [
            "x1: 1500.0\n",
            "x2: 1500.0\n",
            "x3: 1500.0\n",
            "y1: 250.0\n",
            "y2: 750.0\n",
            "y3: 500.0\n",
            "obj: 21750.0\n"
          ]
        }
      ]
    },
    {
      "cell_type": "markdown",
      "metadata": {
        "id": "Xe4rF2w3JWZK"
      },
      "source": [
        "Question :-03"
      ]
    },
    {
      "cell_type": "markdown",
      "metadata": {
        "id": "L7fnQh-zJZ5t"
      },
      "source": [
        "Maximize Z=4x1+3x2\n",
        "Subject to\n",
        "2x1+x2 ≤ 1000\n",
        "x1+x2 ≤ 800\n",
        "x1 ≤ 400\n",
        "x2 ≤ 700, x1,x2 ≥0"
      ]
    },
    {
      "cell_type": "code",
      "metadata": {
        "colab": {
          "base_uri": "https://localhost:8080/"
        },
        "id": "zTrLi-8QJdGS",
        "outputId": "7d9d7612-433d-4cc1-b29c-3e48ec09299f"
      },
      "source": [
        "obj = [-4, -3]\n",
        "lhs_ineq = [[2, 1],[1, 1]]\n",
        "rhs_ineq = [1000, 800]\n",
        "bnd = [(0, 400), (0, 700)]\n",
        "opt = linprog(c=obj, A_ub=lhs_ineq, b_ub=rhs_ineq, bounds=bnd, method=\"revised simplex\")\n",
        "opt"
      ],
      "execution_count": 5,
      "outputs": [
        {
          "output_type": "execute_result",
          "data": {
            "text/plain": [
              "     con: array([], dtype=float64)\n",
              "     fun: -2600.0\n",
              " message: 'Optimization terminated successfully.'\n",
              "     nit: 3\n",
              "   slack: array([0., 0.])\n",
              "  status: 0\n",
              " success: True\n",
              "       x: array([200., 600.])"
            ]
          },
          "metadata": {},
          "execution_count": 5
        }
      ]
    }
  ]
}