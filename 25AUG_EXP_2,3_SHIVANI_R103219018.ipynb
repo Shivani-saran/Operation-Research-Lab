{
  "nbformat": 4,
  "nbformat_minor": 0,
  "metadata": {
    "colab": {
      "name": "25AUG_EXP-2,3_SHIVANI_R103219018.ipynb",
      "provenance": [],
      "authorship_tag": "ABX9TyNy3ebJyWJFSV4PZQJSZ3n6",
      "include_colab_link": true
    },
    "kernelspec": {
      "name": "python3",
      "display_name": "Python 3"
    },
    "language_info": {
      "name": "python"
    }
  },
  "cells": [
    {
      "cell_type": "markdown",
      "metadata": {
        "id": "view-in-github",
        "colab_type": "text"
      },
      "source": [
        "<a href=\"https://colab.research.google.com/github/Shivani-saran/Operation-Research-Lab/blob/main/25AUG_EXP_2%2C3_SHIVANI_R103219018.ipynb\" target=\"_parent\"><img src=\"https://colab.research.google.com/assets/colab-badge.svg\" alt=\"Open In Colab\"/></a>"
      ]
    },
    {
      "cell_type": "markdown",
      "metadata": {
        "id": "CJGlIkWBm4lC"
      },
      "source": [
        " QUESTION:-1"
      ]
    },
    {
      "cell_type": "code",
      "metadata": {
        "id": "3sDc74ZEnnHH"
      },
      "source": [
        "from scipy.optimize import linprog"
      ],
      "execution_count": 1,
      "outputs": []
    },
    {
      "cell_type": "code",
      "metadata": {
        "colab": {
          "base_uri": "https://localhost:8080/"
        },
        "id": "hjYPdDtunzRo",
        "outputId": "37777c0b-9fd6-4a73-92f5-039fd1372766"
      },
      "source": [
        "obj = [-40, -35]\n",
        "lhs_ineq = [[ 2,  3],[4,  3]]\n",
        "rhs_ineq = [60, 96]\n",
        "bnd = [(0, float(\"inf\")), (0, float(\"inf\"))]\n",
        "opt = linprog(c=obj, A_ub=lhs_ineq, b_ub=rhs_ineq, bounds=bnd, method=\"revised simplex\")\n",
        "opt"
      ],
      "execution_count": 2,
      "outputs": [
        {
          "output_type": "execute_result",
          "data": {
            "text/plain": [
              "     con: array([], dtype=float64)\n",
              "     fun: -1000.0\n",
              " message: 'Optimization terminated successfully.'\n",
              "     nit: 2\n",
              "   slack: array([0., 0.])\n",
              "  status: 0\n",
              " success: True\n",
              "       x: array([18.,  8.])"
            ]
          },
          "metadata": {},
          "execution_count": 2
        }
      ]
    },
    {
      "cell_type": "markdown",
      "metadata": {
        "id": "HBYiAy6eoXrI"
      },
      "source": [
        "QUESTION:-2"
      ]
    },
    {
      "cell_type": "code",
      "metadata": {
        "colab": {
          "base_uri": "https://localhost:8080/"
        },
        "id": "lgu21k78oaXj",
        "outputId": "06fb3906-9c5e-425a-82bd-481f52467ac4"
      },
      "source": [
        "obj1 = [40, 24]\n",
        "lhs_ineq1 = [[ -20,  -50],[-80,  -50]]\n",
        "rhs_ineq1 = [-4800, -7200]\n",
        "bnd1 = [(0, float(\"inf\")), (0, float(\"inf\"))]\n",
        "opt1 = linprog(c=obj1, A_ub=lhs_ineq1, b_ub=rhs_ineq1, bounds=bnd1, method=\"revised simplex\")\n",
        "opt1"
      ],
      "execution_count": 4,
      "outputs": [
        {
          "output_type": "execute_result",
          "data": {
            "text/plain": [
              "     con: array([], dtype=float64)\n",
              "     fun: 3456.0\n",
              " message: 'Optimization terminated successfully.'\n",
              "     nit: 3\n",
              "   slack: array([2400.,    0.])\n",
              "  status: 0\n",
              " success: True\n",
              "       x: array([  0., 144.])"
            ]
          },
          "metadata": {},
          "execution_count": 4
        }
      ]
    },
    {
      "cell_type": "markdown",
      "metadata": {
        "id": "zI94JqyQojMJ"
      },
      "source": [
        "QUESTION:-3"
      ]
    },
    {
      "cell_type": "code",
      "metadata": {
        "colab": {
          "base_uri": "https://localhost:8080/"
        },
        "id": "XjS9pms_omIW",
        "outputId": "92a60efe-286d-4daa-926a-d8d761fbb0e9"
      },
      "source": [
        "obj2 = [-5, -2]\n",
        "lhs_ineq2 = [[ 10,  2],[1,  0.5]]\n",
        "rhs_ineq2 = [2100, 600]\n",
        "bnd2 = [(0, float(\"inf\")), (800, float(\"inf\"))]\n",
        "opt2 = linprog(c=obj2, A_ub=lhs_ineq2, b_ub=rhs_ineq2, bounds=bnd2, method=\"revised simplex\")\n",
        "opt2"
      ],
      "execution_count": 5,
      "outputs": [
        {
          "output_type": "execute_result",
          "data": {
            "text/plain": [
              "     con: array([], dtype=float64)\n",
              "     fun: -2100.0\n",
              " message: 'Optimization terminated successfully.'\n",
              "     nit: 2\n",
              "   slack: array([ 0., 75.])\n",
              "  status: 0\n",
              " success: True\n",
              "       x: array([   0., 1050.])"
            ]
          },
          "metadata": {},
          "execution_count": 5
        }
      ]
    },
    {
      "cell_type": "markdown",
      "metadata": {
        "id": "B1dlWeeYopFU"
      },
      "source": [
        "QUESTION:-4"
      ]
    },
    {
      "cell_type": "code",
      "metadata": {
        "colab": {
          "base_uri": "https://localhost:8080/"
        },
        "id": "C9eV9Sw9osPk",
        "outputId": "7f9072a3-1327-493c-c388-0c21905d4eba"
      },
      "source": [
        "obj3 = [-60, -40]\n",
        "lhs_ineq3 = [[ 2,  1]]\n",
        "rhs_ineq3 = [60]\n",
        "bnd3 = [(0, 25), (0, 35)]\n",
        "opt3 = linprog(c=obj3, A_ub=lhs_ineq3, b_ub=rhs_ineq3, bounds=bnd3, method=\"revised simplex\")\n",
        "opt3"
      ],
      "execution_count": 6,
      "outputs": [
        {
          "output_type": "execute_result",
          "data": {
            "text/plain": [
              "     con: array([], dtype=float64)\n",
              "     fun: -2150.0\n",
              " message: 'Optimization terminated successfully.'\n",
              "     nit: 3\n",
              "   slack: array([0.])\n",
              "  status: 0\n",
              " success: True\n",
              "       x: array([12.5, 35. ])"
            ]
          },
          "metadata": {},
          "execution_count": 6
        }
      ]
    },
    {
      "cell_type": "markdown",
      "metadata": {
        "id": "Q3b1oxOcowY3"
      },
      "source": [
        "QUESTION:-5"
      ]
    },
    {
      "cell_type": "code",
      "metadata": {
        "colab": {
          "base_uri": "https://localhost:8080/"
        },
        "id": "dpHPY-Fzoyga",
        "outputId": "18a3ee26-182c-4c36-a872-877bd7c97f15"
      },
      "source": [
        "obj4 = [20, 10]\n",
        "lhs_ineq4 = [[ 1,  2],[-3,  -1], [-4,  -3]]\n",
        "rhs_ineq4 = [40, -30, -60]\n",
        "bnd4 = [(0, float(\"inf\")), (0, float(\"inf\"))]\n",
        "opt4 = linprog(c=obj4, A_ub=lhs_ineq4, b_ub=rhs_ineq4, bounds=bnd4, method=\"revised simplex\")\n",
        "opt4"
      ],
      "execution_count": 7,
      "outputs": [
        {
          "output_type": "execute_result",
          "data": {
            "text/plain": [
              "     con: array([], dtype=float64)\n",
              "     fun: 240.0\n",
              " message: 'Optimization terminated successfully.'\n",
              "     nit: 2\n",
              "   slack: array([10.,  0.,  0.])\n",
              "  status: 0\n",
              " success: True\n",
              "       x: array([ 6., 12.])"
            ]
          },
          "metadata": {},
          "execution_count": 7
        }
      ]
    },
    {
      "cell_type": "markdown",
      "metadata": {
        "id": "2OCo0dp6o2tM"
      },
      "source": [
        "QUESTION:-6"
      ]
    },
    {
      "cell_type": "code",
      "metadata": {
        "colab": {
          "base_uri": "https://localhost:8080/"
        },
        "id": "A0BzyQgHo5bB",
        "outputId": "49242ea0-b4f0-43c3-98f1-293380629e65"
      },
      "source": [
        "obj5 = [-1, -1, -3]\n",
        "lhs_ineq5 = [[ 3,  2, 1],[2, 1, 2]]\n",
        "rhs_ineq5 = [300, 200]\n",
        "bnd5 = [(0, float(\"inf\")), (0, float(\"inf\")),  (0, float(\"inf\"))]\n",
        "opt5 = linprog(c=obj5, A_ub=lhs_ineq5, b_ub=rhs_ineq5, bounds=bnd5, method=\"revised simplex\")\n",
        "opt5"
      ],
      "execution_count": 8,
      "outputs": [
        {
          "output_type": "execute_result",
          "data": {
            "text/plain": [
              "     con: array([], dtype=float64)\n",
              "     fun: -300.0\n",
              " message: 'Optimization terminated successfully.'\n",
              "     nit: 1\n",
              "   slack: array([200.,   0.])\n",
              "  status: 0\n",
              " success: True\n",
              "       x: array([  0.,   0., 100.])"
            ]
          },
          "metadata": {},
          "execution_count": 8
        }
      ]
    }
  ]
}